{
 "cells": [
  {
   "cell_type": "code",
   "execution_count": 125,
   "metadata": {},
   "outputs": [],
   "source": [
    "import os\n",
    "from nltk.tokenize import word_tokenize\n",
    "from nltk.corpus import PlaintextCorpusReader\n",
    "from gensim import corpora, models, similarities\n",
    "import warnings\n",
    "import nltk\n",
    "from nltk.corpus import stopwords\n",
    "from pprint import pprint\n",
    "import string\n",
    "\n",
    "warnings.filterwarnings(\"ignore\")"
   ]
  },
  {
   "cell_type": "code",
   "execution_count": 126,
   "metadata": {},
   "outputs": [],
   "source": [
    "FOLDER_PATH = './data/bbc/tech'\n",
    "\n",
    "stop_words = set(stopwords.words('english'))\n",
    "punctuation = set(string.punctuation)"
   ]
  },
  {
   "cell_type": "code",
   "execution_count": 127,
   "metadata": {},
   "outputs": [],
   "source": [
    "#функция для создания списка текстов\n",
    "def create_text_list(folder_path = FOLDER_PATH):\n",
    "    file_list = sorted(os.listdir(folder_path))\n",
    "    text_list = []\n",
    "    for file_name in file_list:\n",
    "        file_path = os.path.join(folder_path, file_name)\n",
    "        with open(file_path, 'r') as file:\n",
    "            text = file.read()\n",
    "            text_list.append(text)\n",
    "    return text_list\n",
    "\n"
   ]
  },
  {
   "cell_type": "code",
   "execution_count": 128,
   "metadata": {},
   "outputs": [],
   "source": [
    "text_list = create_text_list()"
   ]
  },
  {
   "cell_type": "code",
   "execution_count": 129,
   "metadata": {},
   "outputs": [],
   "source": [
    "def delete_stop_words(list):\n",
    "    return [[word for word in document.lower().split() if word not in stop_words] for document in text_list]"
   ]
  },
  {
   "cell_type": "code",
   "execution_count": 130,
   "metadata": {},
   "outputs": [],
   "source": [
    "texts = delete_stop_words(text_list)"
   ]
  },
  {
   "cell_type": "code",
   "execution_count": 131,
   "metadata": {},
   "outputs": [],
   "source": [
    "#создадим словарь и преобразуем данные, используя TF-IDF модель\n",
    "dictionary = corpora.Dictionary(texts)\n",
    "corpus = [dictionary.doc2bow(text) for text in texts]\n",
    "tfidf = models.TfidfModel(corpus)\n",
    "corpus_tfidf = tfidf[corpus]"
   ]
  },
  {
   "cell_type": "markdown",
   "metadata": {},
   "source": [
    "**Протестируем модель**"
   ]
  },
  {
   "cell_type": "code",
   "execution_count": 136,
   "metadata": {},
   "outputs": [],
   "source": [
    "def testing(query):\n",
    "    query_bow = dictionary.doc2bow(query.lower().split())\n",
    "    query_tfidf = tfidf[query_bow]\n",
    "    index = similarities.MatrixSimilarity(corpus_tfidf, num_features=len(dictionary))\n",
    "    similarities_score = index[query_tfidf]\n",
    "    similarities_score = sorted(enumerate(similarities_score), key=lambda item: -item[1])\n",
    "    print('Query:', query, '\\n')\n",
    "\n",
    "    for i in similarities_score[:3]:\n",
    "        print('Text №', i[0]+1, 'similarities =', i[1], '\\n')\n",
    "        print(text_list[i[0]])\n",
    "        print('-'*50)"
   ]
  },
  {
   "cell_type": "code",
   "execution_count": 137,
   "metadata": {},
   "outputs": [
    {
     "name": "stdout",
     "output_type": "stream",
     "text": [
      "Query: rfid tags \n",
      "\n",
      "Text № 61 similarities = 0.7372147 \n",
      "\n",
      "Concern over RFID tags\n",
      "\n",
      "Consumers are very concerned about the use of radio frequency ID (RFID) tags in shops, a survey says.\n",
      "\n",
      "More than half of 2,000 people surveyed said they had privacy worries about the tags, which can be used to monitor stock on shelves or in warehouses. Some consumer groups have expressed concern that the tags could be used to monitor shoppers once they had left shops with their purchases. The survey showed that awareness of tags among consumers in Europe was low. The survey of consumers in the UK, France, Germany and the Netherlands was carried out by consultancy group Capgemini. The firm works on behalf of more than 30 firms who are seeking to promote the growth of RFID technology. The tags are a combination of computer chip and antenna which can be read by a scanner - each item contains a unique identification number.\n",
      "\n",
      "More than half (55%) of the respondents said they were either concerned or very concerned that RFID tags would allow businesses to track consumers via product purchases. Fifty nine percent of people said they were worried that RFID tags would allow data to be used more freely by third parties. Ard Jan Vetham, Capgemini's principal consultant on RFID, said the survey showed that retailers needed to inform and educate people about RFID before it would become accepted technology. \"Acceptance of new technologies always has a tipping point at which consumers believe that benefits outweigh concerns. \"With the right RFID approach and ongoing communication with consumers, the industry can reach this point.\" He said that the survey also showed people would accept RFID if they felt that the technology could mean a reduction in car theft or faster recovery of stolen items. The tags are currently being used at one Tesco distribution centre in the UK - the tags allow the rapid inventory of bulk items. They are also in use as a passcard for the M6 Toll in the Midlands, in the UK. Mr Vetham said the majority of people surveyed (52%) believed that RFID tags could be read from a distance. He said that was a misconception based on a lack of awareness of the technology. At least once consumer group - Consumers Against Supermarket Privacy Invasion and Numbering (Caspian) - has claimed that RFID chips could be used to secretly identify people and the things they are carrying or wearing. All kinds of personal belongings, including clothes, could constantly broadcast messages about their whereabouts and their owners, it warned.\n",
      "\n",
      "--------------------------------------------------\n",
      "Text № 321 similarities = 0.7361659 \n",
      "\n",
      "Consumer concern over RFID tags\n",
      "\n",
      "Consumers are very concerned about the use of radio frequency ID (RFID) tags in shops, a survey says.\n",
      "\n",
      "More than half of 2,000 people surveyed said they had privacy worries about the tags, which can be used to monitor stock on shelves or in warehouses. Some consumer groups have expressed concern that the tags could be used to monitor shoppers once they had left shops with their purchases. The survey showed that awareness of tags among consumers in Europe was low. The survey of consumers in the UK, France, Germany and the Netherlands was carried out by consultancy group Capgemini. The firm works on behalf of more than 30 firms who are seeking to promote the growth of RFID technology. The tags are a combination of computer chip and antenna which can be read by a scanner - each item contains a unique identification number.\n",
      "\n",
      "More than half (55%) of the respondents said they were either concerned or very concerned that RFID tags would allow businesses to track consumers via product purchases. Fifty nine percent of people said they were worried that RFID tags would allow data to be used more freely by third parties. Ard Jan Vetham, Capgemini's principal consultant on RFID, said the survey showed that retailers needed to inform and educate people about RFID before it would become accepted technology. \"Acceptance of new technologies always has a tipping point at which consumers believe that benefits outweigh concerns. \"With the right RFID approach and ongoing communication with consumers, the industry can reach this point.\" He said that the survey also showed people would accept RFID if they felt that the technology could mean a reduction in car theft or faster recovery of stolen items. The tags are currently being used at one Tesco distribution centre in the UK - the tags allow the rapid inventory of bulk items. They are also in use as a passcard for the M6 Toll in the Midlands, in the UK. Mr Vetham said the majority of people surveyed (52%) believed that RFID tags could be read from a distance. He said that was a misconception based on a lack of awareness of the technology. At least once consumer group - Consumers Against Supermarket Privacy Invasion and Numbering (Caspian) - has claimed that RFID chips could be used to secretly identify people and the things they are carrying or wearing. All kinds of personal belongings, including clothes, could constantly broadcast messages about their whereabouts and their owners, it warned.\n",
      "\n",
      "--------------------------------------------------\n",
      "Text № 10 similarities = 0.07050702 \n",
      "\n",
      "Google's toolbar sparks concern\n",
      "\n",
      "Search engine firm Google has released a trial tool which is concerning some net users because it directs people to pre-selected commercial websites.\n",
      "\n",
      "The AutoLink feature comes with Google's latest toolbar and provides links in a webpage to Amazon.com if it finds a book's ISBN number on the site. It also links to Google's map service, if there is an address, or to car firm Carfax, if there is a licence plate. Google said the feature, available only in the US, \"adds useful links\". But some users are concerned that Google's dominant position in the search engine market place could mean it would be giving a competitive edge to firms like Amazon.\n",
      "\n",
      "AutoLink works by creating a link to a website based on information contained in a webpage - even if there is no link specified and whether or not the publisher of the page has given permission.\n",
      "\n",
      "If a user clicks the AutoLink feature in the Google toolbar then a webpage with a book's unique ISBN number would link directly to Amazon's website. It could mean online libraries that list ISBN book numbers find they are directing users to Amazon.com whether they like it or not. Websites which have paid for advertising on their pages may also be directing people to rival services. Dan Gillmor, founder of Grassroots Media, which supports citizen-based media, said the tool was a \"bad idea, and an unfortunate move by a company that is looking to continue its hypergrowth\". In a statement Google said the feature was still only in beta, ie trial, stage and that the company welcomed feedback from users. It said: \"The user can choose never to click on the AutoLink button, and web pages she views will never be modified. \"In addition, the user can choose to disable the AutoLink feature entirely at any time.\"\n",
      "\n",
      "The new tool has been compared to the Smart Tags feature from Microsoft by some users. It was widely criticised by net users and later dropped by Microsoft after concerns over trademark use were raised. Smart Tags allowed Microsoft to link any word on a web page to another site chosen by the company. Google said none of the companies which received AutoLinks had paid for the service. Some users said AutoLink would only be fair if websites had to sign up to allow the feature to work on their pages or if they received revenue for any \"click through\" to a commercial site. Cory Doctorow, European outreach coordinator for digital civil liberties group Electronic Fronter Foundation, said that Google should not be penalised for its market dominance. \"Of course Google should be allowed to direct people to whatever proxies it chooses. \"But as an end user I would want to know - 'Can I choose to use this service?, 'How much is Google being paid?', 'Can I substitute my own companies for the ones chosen by Google?'.\" Mr Doctorow said the only objection would be if users were forced into using AutoLink or \"tricked into using the service\".\n",
      "\n",
      "--------------------------------------------------\n"
     ]
    }
   ],
   "source": [
    "testing('rfid tags')"
   ]
  },
  {
   "cell_type": "code",
   "execution_count": 138,
   "metadata": {},
   "outputs": [
    {
     "name": "stdout",
     "output_type": "stream",
     "text": [
      "Query: google chrome \n",
      "\n",
      "Text № 186 similarities = 0.38802734 \n",
      "\n",
      "China 'blocks Google news site'\n",
      "\n",
      "China has been accused of blocking access to Google News by the media watchdog, Reporters Without Borders.\n",
      "\n",
      "The Paris-based pressure group said the English-language news site had been unavailable for the past 10 days. It said the aim was to force people to use a Chinese edition of the site which, according to the watchdog, does not include critical reports. Google told the BBC News website it was aware of the problems and was investigating the causes.\n",
      "\n",
      "China is believed to extend greater censorship over the net than any other country in the world.\n",
      "\n",
      "A net police force monitors websites and e-mails, and controls on gateways connecting the country to the global internet are designed to prevent access to critical information. Popular Chinese portals such as Sina.com and Sohu.com maintain a close eye on content and delete politically sensitive comments. And all 110,000 net cafes in the country have to use software to control access to websites considered harmful or subversive.\n",
      "\n",
      "\"China is censoring Google News to force internet users to use the Chinese version of the site which has been purged of the most critical news reports,\" said the group in a statement. \"By agreeing to launch a news service that excludes publications disliked by the government, Google has let itself be used by Beijing,\" it said. For its part, the search giant said it was looking into the issue. \"It appears that many users in China are having difficulty accessing Google News sites in China and we are working to understand and resolve the issue,\" said a Google spokesperson. Google News gathers information from some 4,500 news sources. Headlines are selected for display entirely by a computer algorithm, with no human editorial intervention. It offers 15 editions of the service, including one tailored for China and one for Hong Kong. Google launched a version in simplified Chinese in September. The site does not filter news results to remove politically sensitive information. But Google does not link to news sources which are inaccessible from within China as this would result in broken links.\n",
      "\n",
      "--------------------------------------------------\n",
      "Text № 76 similarities = 0.34051204 \n",
      "\n",
      "Google launches TV search service\n",
      "\n",
      "The net search giant Google has launched a search service that lets people look for TV programmes.\n",
      "\n",
      "The service, Google Video beta, searches closed caption information that comes with programmes. It only searches US channel content currently. Results list programmes with still images and text from the point where the search phrase was spoken. It should expand over time to include content from more channels, said a Google spokesperson. The first version of the service is part of Google's expanding efforts to be a ubiquitous search engine for people to find what they want on the web and beyond. \"We think TV is a big part of people's lives,\" said Jonathan Rosenberg, Google's vice president of product management. \"Ultimately, we would like to have all TV programming indexed.\"\n",
      "\n",
      "Google Video has been indexing US-based programmes from PBS, the NBA, Fox News, and C-SPAN since December. But there were few clues from Google about when more global broadcasters would be included. \"Over time, we plan to increase the number of television channels and video content available via Google Video but don't have more product details to share with you today,\" a Google spokesperson told the BBC News website.\n",
      "\n",
      "The results thrown up by the search will also include programme and episode information like channel, date and time. It also lets people find the next time and channel where a programme will aired locally using a US zip code search function. Rival search engine Yahoo has been developing a similar type of video search for webcasts and TV clips which it promotes from its homepage. It offers direct links to websites with movies or other clips relevant to the search query, but does not pinpoint when the search query occurred. A spokeswoman told the Financial Times on Monday that Yahoo was adding captioning for Bloomberg, BBC and BSkyB broadcasts. A smaller service, blinkx.tv, was launched last month. It searches for and links to TV news, film trailers, and other video and audio clips.\n",
      "\n",
      "--------------------------------------------------\n",
      "Text № 257 similarities = 0.25989205 \n",
      "\n",
      "Santy worm makes unwelcome visit\n",
      "\n",
      "Thousands of website bulletin boards have been defaced by a virus that used Google to spread across the net.\n",
      "\n",
      "The Santy worm first appeared on 20 December and within 24 hours had successfully hit more than 40,000 websites. The malicious program exploits a vulnerability in the widely used phpBB software. Santy's spread has now been stopped after Google began blocking infected sites searching for new victims.\n",
      "\n",
      "The worm replaces chat forums with a webpage announcing that the site had been defaced by the malicious program. Soon after being infected, sites hit by the worm started randomly searching for other websites running the vulnerable phpBB software. Once Google started blocking these search queries the rate of infection tailed off sharply. A message sent to Finnish security firm F-Secure by Google's security team said: \"While a seven hour response for something like this is not outrageous, we think we can and should do better.\" \"We will be reviewing our procedures to improve our response time in the future to similar problems,\" the Google team said. Security firms estimate that about 1m websites run their discussion groups and forums with the open source phpBB program. The worst of the attack now seems to be over as a search conducted on the morning of the 22 December produced only 1,440 hits for sites showing the text used in the defacement message. People using the sites hit by Santy will not be affected by the worm. Santy is not the first malicious program to use Google to help it spread. In July a variant of the MyDoom virus slowed down searches on Google as the program flooded the search site with queries looking for new e-mail addresses to send itself to.\n",
      "\n",
      "--------------------------------------------------\n"
     ]
    }
   ],
   "source": [
    "testing('google chrome')"
   ]
  },
  {
   "cell_type": "code",
   "execution_count": 139,
   "metadata": {},
   "outputs": [
    {
     "name": "stdout",
     "output_type": "stream",
     "text": [
      "Query: microsoft \n",
      "\n",
      "Text № 3 similarities = 0.2936793 \n",
      "\n",
      "Microsoft seeking spyware trojan\n",
      "\n",
      "Microsoft is investigating a trojan program that attempts to switch off the firm's anti-spyware software.\n",
      "\n",
      "The spyware tool was only released by Microsoft in the last few weeks and has been downloaded by six million people. Stephen Toulouse, a security manager at Microsoft, said the malicious program was called Bankash-A Trojan and was being sent as an e-mail attachment. Microsoft said it did not believe the program was widespread and recommended users to use an anti-virus program. The program attempts to disable or delete Microsoft's anti-spyware tool and suppress warning messages given to users.\n",
      "\n",
      "It may also try to steal online banking passwords or other personal information by tracking users' keystrokes.\n",
      "\n",
      "Microsoft said in a statement it is investigating what it called a criminal attack on its software. Earlier this week, Microsoft said it would buy anti-virus software maker Sybari Software to improve its security in its Windows and e-mail software. Microsoft has said it plans to offer its own paid-for anti-virus software but it has not yet set a date for its release. The anti-spyware program being targeted is currently only in beta form and aims to help users find and remove spyware - programs which monitor internet use, causes advert pop-ups and slow a PC's performance.\n",
      "\n",
      "--------------------------------------------------\n",
      "Text № 36 similarities = 0.2936793 \n",
      "\n",
      "Microsoft seeking spyware trojan\n",
      "\n",
      "Microsoft is investigating a trojan program that attempts to switch off the firm's anti-spyware software.\n",
      "\n",
      "The spyware tool was only released by Microsoft in the last few weeks and has been downloaded by six million people. Stephen Toulouse, a security manager at Microsoft, said the malicious program was called Bankash-A Trojan and was being sent as an e-mail attachment. Microsoft said it did not believe the program was widespread and recommended users to use an anti-virus program. The program attempts to disable or delete Microsoft's anti-spyware tool and suppress warning messages given to users.\n",
      "\n",
      "It may also try to steal online banking passwords or other personal information by tracking users' keystrokes.\n",
      "\n",
      "Microsoft said in a statement it is investigating what it called a criminal attack on its software. Earlier this week, Microsoft said it would buy anti-virus software maker Sybari Software to improve its security in its Windows and e-mail software. Microsoft has said it plans to offer its own paid-for anti-virus software but it has not yet set a date for its release. The anti-spyware program being targeted is currently only in beta form and aims to help users find and remove spyware - programs which monitor internet use, causes advert pop-ups and slow a PC's performance.\n",
      "\n",
      "--------------------------------------------------\n",
      "Text № 53 similarities = 0.2199587 \n",
      "\n",
      "Microsoft launches its own search\n",
      "\n",
      "Microsoft has unveiled the finished version of its home-grown search engine.\n",
      "\n",
      "The now formally launched MSN search site takes the training wheels off the test version unveiled in November 2003. The revamped engine indexes more pages than before, can give direct answers to factual questions, and features tools to help people create detailed queries. Microsoft faces challenges establishing itself as a serious search site because of the intense competition for queries.\n",
      "\n",
      "Google still reigns supreme as the site people turn to most often when they go online to answer a query, keep up with news or search for images. But in the last year Google has faced greater competition than ever for users as old rivals, such as Yahoo and Microsoft, and new entrants such as Amazon and Blinkx, try to grab some of the searching audience for themselves. This renewed interest has come about because of the realisation that many of the things people do online begin with a search for information - be it for a particular web page, recipe, book, gadget, news story, image or anything else. Microsoft is keen to make its home-grown search engine a significant rival to Google. To generate its corpus of data, Microsoft has indexed 5 billion webpages and claims to update its document index every two days - more often than rivals. The Microsoft search engine can also answer specific queries directly rather than send people to a page that might contain the answer.\n",
      "\n",
      "For its direct answer feature, Microsoft is calling on its Encarta encyclopaedia to provide answers to questions about definitions, facts, calculations, conversions and solutions to equations. Tony Macklin, director of product at Ask Jeeves, pointed out that its search engine has been answering specific queries this way since April 2003. \"The major search providers have moved beyond delivering only algorithmic search, so in many ways Microsoft is following the market,\" he said. Tools sitting alongside the MSN search engine allow users to refine results to specific websites, countries, regions or languages. Microsoft is also using so-called \"graphic equalisers\" that let people adjust the relevance of terms to get results that are more up-to-date or more popular. The company said that user feedback from earlier test versions had been used to refine the workings of the finished system. The test, or beta, version of the MSN search engine unveiled in November had a few teething troubles. On its first day many new users keen to try it were greeted with a page that said the site had been overwhelmed.\n",
      "\n",
      "--------------------------------------------------\n"
     ]
    }
   ],
   "source": [
    "testing('microsoft')"
   ]
  },
  {
   "cell_type": "markdown",
   "metadata": {},
   "source": [
    "Вывод: Перед нами стояла задача поиска текста по запросу. Для решения задачи было использовано tf-idf-преобразование. На первом тестовом запросе в качестве результата модель выдала тексты очень близкие к запросу (метрика схожести 0,73 для первых двух текстов)."
   ]
  },
  {
   "cell_type": "code",
   "execution_count": null,
   "metadata": {},
   "outputs": [],
   "source": []
  }
 ],
 "metadata": {
  "kernelspec": {
   "display_name": "base",
   "language": "python",
   "name": "python3"
  },
  "language_info": {
   "codemirror_mode": {
    "name": "ipython",
    "version": 3
   },
   "file_extension": ".py",
   "mimetype": "text/x-python",
   "name": "python",
   "nbconvert_exporter": "python",
   "pygments_lexer": "ipython3",
   "version": "3.10.9"
  },
  "orig_nbformat": 4
 },
 "nbformat": 4,
 "nbformat_minor": 2
}
